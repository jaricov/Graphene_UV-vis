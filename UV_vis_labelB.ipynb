{
 "cells": [
  {
   "cell_type": "code",
   "execution_count": 1,
   "metadata": {},
   "outputs": [],
   "source": [
    "#¿Cuantos medidas se tomaron: N=?\n",
    "N=6\n",
    "#GRAFICAS PARA COMPARAR PICOS (UV-VIS; RAMAN)\n",
    "import numpy as np\n",
    "import os\n",
    "import peakutils\n",
    "from peakutils.plot import plot as pplot\n",
    "from matplotlib import pyplot\n",
    "import csv\n",
    "from numpy import genfromtxt\n",
    "import pandas as pd\n",
    "import matplotlib.pyplot as plt\n",
    "from mpl_toolkits.axes_grid1.inset_locator import (inset_axes, InsetPosition,mark_inset)\n",
    "from decimal import Decimal\n",
    "import scipy\n",
    "from scipy.interpolate import interp1d\n",
    "\n",
    "from math import log10, floor\n",
    "%matplotlib inline"
   ]
  },
  {
   "cell_type": "code",
   "execution_count": 88,
   "metadata": {
    "scrolled": true
   },
   "outputs": [
    {
     "name": "stderr",
     "output_type": "stream",
     "text": [
      "No handles with labels found to put in legend.\n"
     ]
    },
    {
     "data": {
      "image/png": "[encoded data removed]",
      "text/plain": [
       "<Figure size 432x288 with 1 Axes>"
      ]
     },
     "metadata": {
      "needs_background": "light"
     },
     "output_type": "display_data"
    }
   ],
   "source": [
    "#redondear cifras significativas \n",
    "#def round_sig(x, sig=3): \n",
    "#   return round(x, sig-int(floor(log10(abs(x))))-1)\n",
    "\n",
    "#Creamos el multiarray con los vectores X y Y de cada csv lambdas y abs\n",
    "MultiArray=[]\n",
    "MultiArrayLabels=[]# creamos multiarrays de labels filtrados - creados\n",
    "MultiArrayPeaks=[] # creamos multiarrays de los picos de las gráficas\n",
    "#Leemos los nombres\n",
    "labels=np.genfromtxt('LABELS.txt',delimiter=';', dtype = str)\n",
    "nombres=[row[1] for row in labels]\n",
    "nombresfilt=[]\n",
    "\n",
    "#Creamos la grafica del raw data, con la linea base y ya sin la linea base.\n",
    "pyplot.ion()\n",
    "fig=pyplot.figure()\n",
    "pyplot.subplots_adjust(hspace=0.8)\n",
    "\n",
    "\n",
    "ax1=fig.add_subplot(1,1,1)\n",
    "ax1.set_ylabel('Absorbance [A.U.]')\n",
    "ax1.set_xlabel('Wavelenght [nm]')\n",
    "#ax1.set_title('Test B')\n",
    "ax1.set_xlim([500,1000])\n",
    "ax1.set_ylim([0,3])\n",
    "ax1.legend(loc='upper left',prop={'size': 7.8})\n",
    "ax1.text(665,1.6,r\"<$\\alpha_{660nm}$>=$2.46\\:Lg^{-1}m^{-1}$\", {'fontsize': 11}, family=\"sans-serif\")\n",
    "ax1.text(700,1.3,r\"$A=\\alpha lC$\", {'fontsize': 11}, family=\"sans-serif\")\n",
    "#ax1.set_title('RawData',fontsize=10)\n",
    "\n",
    "\n",
    "#INICIA LA LECTURA DE TODOS LOS ARCHIVOS\n",
    "i=0\n",
    "for i in range(N):\n",
    "    if os.path.isfile(str(i)+'B'+'.csv')== False:\n",
    "        i=i+1 # secuencia para que el programa continue aunque no encuetre un archivo con ese nombre\n",
    "    else:\n",
    "        data=np.genfromtxt(str(i)+'B'+'.csv',delimiter=';', dtype = str)\n",
    "        nombresfilt.append(nombres[i])\n",
    "    \n",
    "        a=[float(row[0]) for row in data]\n",
    "        b=[float(row[1]) for row in data]\n",
    "        \n",
    "        a = np.asarray(a)\n",
    "        b = np.asarray(b)\n",
    "        \n",
    "        absor=[]\n",
    "        for j in range (len(a)):\n",
    "            if a[j]==660:\n",
    "                #print(b[j])\n",
    "                #Ley de Beer-Lambert con un coeficiente de extinción de <α_660nm>=2,46 L〖 g〗^(-1) mm^(-1) y una cubeta de 10mm\n",
    "                porcen_pV=4.06*10**-3*b[j]\n",
    "                absor.append(b[j])\n",
    "            \n",
    "        #print(nombres[i])\n",
    "        etiqueta= str(\"%.2e\" % Decimal(porcen_pV))+str(\" %p/V\")\n",
    "        ax1.scatter(a, b,s=2, label=etiqueta)\n",
    "        ax1.axvline(x=660, ymin=0, ymax = 3, linewidth=1, color='k')\n",
    "        fig.canvas.draw()\n",
    "        ax1.legend(prop={'size': 8}, frameon=False)\n",
    "        \n",
    "        \n",
    "            \n",
    "    fig.savefig('uv_vis.eps',dpi=199)"
   ]
  },
  {
   "cell_type": "code",
   "execution_count": null,
   "metadata": {},
   "outputs": [],
   "source": []
  }
 ],
 "metadata": {
  "kernelspec": {
   "display_name": "Python 3",
   "language": "python",
   "name": "python3"
  },
  "language_info": {
   "codemirror_mode": {
    "name": "ipython",
    "version": 3
   },
   "file_extension": ".py",
   "mimetype": "text/x-python",
   "name": "python",
   "nbconvert_exporter": "python",
   "pygments_lexer": "ipython3",
   "version": "3.7.3"
  }
 },
 "nbformat": 4,
 "nbformat_minor": 2
}
